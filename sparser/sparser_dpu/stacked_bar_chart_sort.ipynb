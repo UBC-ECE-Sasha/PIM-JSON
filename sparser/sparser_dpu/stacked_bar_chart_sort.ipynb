{
 "cells": [
  {
   "cell_type": "code",
   "execution_count": 68,
   "metadata": {},
   "outputs": [],
   "source": [
    "import pandas as pd\n",
    "import numpy as np\n",
    "import altair as alt"
   ]
  },
  {
   "cell_type": "code",
   "execution_count": 69,
   "metadata": {},
   "outputs": [],
   "source": [
    "df = pd.read_csv(\"sparser_candidates.csv\")\n",
    "# this .csv file needs the following field:\n",
    "# \"host speed\": original Sparser total time  \n",
    "# \"passed\": number of filtered records\n",
    "# \"number of candidates\": number candidates\n",
    "# \"Sparser parse: sparser parse time\n",
    "# \"preprocess\": dpu preprocess\n",
    "# \"memory copy\": host->dpu\n",
    "# \"dpu launch\"\n",
    "# \"copy back\": copy results from dpu back time\n",
    "# \"host parse\": dpu host parse time\n",
    "# \"total records\": total records\n"
   ]
  },
  {
   "cell_type": "code",
   "execution_count": 70,
   "metadata": {},
   "outputs": [],
   "source": [
    "df['dpu_total_process'] = df['preprocess'] + df['host parse']\n",
    "df['dpu_total_memory'] = df['memory copy'] + df['copy back']\n",
    "df['candidates_percentage'] = df['number of candidates'] / df['total records']\n",
    "df['Sparser process'] = df['host speed'] - df['Sparser parse']"
   ]
  },
  {
   "cell_type": "code",
   "execution_count": 71,
   "metadata": {},
   "outputs": [],
   "source": [
    "# sort based on candidate percentage\n",
    "df = df.sort_values('candidates_percentage')"
   ]
  },
  {
   "cell_type": "code",
   "execution_count": 72,
   "metadata": {},
   "outputs": [],
   "source": [
    "# create bunch of dataframes for later use\n",
    "new_dpu_proc_df = df[['candidates_percentage', 'dpu_total_process']]\n",
    "new_dpu_launch_df = df[['candidates_percentage', 'dpu launch']]\n",
    "new_dpu_mem_df = df[['candidates_percentage', 'dpu_total_memory']]\n",
    "new_host_df = df[['candidates_percentage', 'Sparser process']]\n",
    "new_host_parse_df = df[['candidates_percentage', 'Sparser parse']]\n"
   ]
  },
  {
   "cell_type": "code",
   "execution_count": 73,
   "metadata": {},
   "outputs": [],
   "source": [
    "new_dpu_proc_df.rename(columns={'dpu_total_process': 'vals'}, inplace =True)\n",
    "new_dpu_launch_df.rename(columns={'dpu launch': 'vals'}, inplace =True)\n",
    "new_dpu_mem_df.rename(columns={'dpu_total_memory': 'vals'}, inplace =True)\n",
    "new_host_df.rename(columns={'Sparser process': 'vals'}, inplace =True)\n",
    "new_host_parse_df.rename(columns={'Sparser parse': 'vals'}, inplace =True)"
   ]
  },
  {
   "cell_type": "code",
   "execution_count": 74,
   "metadata": {},
   "outputs": [],
   "source": [
    "new_dpu_proc_df.insert(2, 'c2', len(new_dpu_proc_df) * ['dpu'], True)\n",
    "new_dpu_launch_df.insert(2, 'c2', len(new_dpu_launch_df) * ['dpu'], True)\n",
    "new_dpu_mem_df.insert(2, 'c2', len(new_dpu_mem_df) * ['dpu'], True)\n",
    "new_host_df.insert(2, 'c2', len(new_host_df) * ['host'], True)\n",
    "new_host_parse_df.insert(2, 'c2', len(new_host_parse_df) * ['host'], True)\n",
    "\n",
    "new_dpu_proc_df.insert(3, 'name', len(new_dpu_proc_df) * ['dpu host parse'], True)\n",
    "new_dpu_launch_df.insert(3, 'name', len(new_dpu_launch_df) * ['dpu launch'], True)\n",
    "new_dpu_mem_df.insert(3, 'name', len(new_dpu_mem_df) * ['dpu memory transfer'], True)\n",
    "new_host_df.insert(3, 'name', len(new_host_df) * ['Sparser process'], True)\n",
    "new_host_parse_df.insert(3, 'name', len(new_host_parse_df) * ['Sparser parse'], True)\n"
   ]
  },
  {
   "cell_type": "code",
   "execution_count": 84,
   "metadata": {},
   "outputs": [
    {
     "ename": "SyntaxError",
     "evalue": "invalid syntax (<ipython-input-84-14ba2a556c10>, line 1)",
     "output_type": "error",
     "traceback": [
      "\u001b[1;36m  File \u001b[1;32m\"<ipython-input-84-14ba2a556c10>\"\u001b[1;36m, line \u001b[1;32m1\u001b[0m\n\u001b[1;33m    plot_df = pd.concat([new_dpu_proc_df, new_dpu_launch_df, new_dpu_mem_df, , new_host_parse_df, new_host_df], sort=False)\u001b[0m\n\u001b[1;37m                                                                             ^\u001b[0m\n\u001b[1;31mSyntaxError\u001b[0m\u001b[1;31m:\u001b[0m invalid syntax\n"
     ]
    }
   ],
   "source": [
    "plot_df = pd.concat([new_dpu_proc_df, new_dpu_launch_df, new_dpu_mem_df, , new_host_parse_df, new_host_df], sort=False)\n",
    "plot_df = plot_df.round({'candidates_percentage': 4})"
   ]
  },
  {
   "cell_type": "code",
   "execution_count": 85,
   "metadata": {},
   "outputs": [
    {
     "name": "stdout",
     "output_type": "stream",
     "text": [
      "   candidates_percentage       vals    c2                 name\n",
      "0                 0.1000  10.160085   dpu       dpu host parse\n",
      "1                 0.2500  24.101290   dpu       dpu host parse\n",
      "2                 0.5000  48.884967   dpu       dpu host parse\n",
      "3                 0.7500  72.905426   dpu       dpu host parse\n",
      "4                 0.9981  97.386476   dpu       dpu host parse\n",
      "0                 0.1000   3.836240   dpu           dpu launch\n",
      "1                 0.2500   3.933260   dpu           dpu launch\n",
      "2                 0.5000   3.825560   dpu           dpu launch\n",
      "3                 0.7500   3.825290   dpu           dpu launch\n",
      "4                 0.9981   3.731700   dpu           dpu launch\n",
      "0                 0.1000   2.039261   dpu  dpu memory transfer\n",
      "1                 0.2500   2.096089   dpu  dpu memory transfer\n",
      "2                 0.5000   2.036131   dpu  dpu memory transfer\n",
      "3                 0.7500   2.026166   dpu  dpu memory transfer\n",
      "4                 0.9981   2.091779   dpu  dpu memory transfer\n",
      "0                 0.1000  30.858112  host      Sparser process\n",
      "1                 0.2500  28.628410  host      Sparser process\n",
      "2                 0.5000  27.733339  host      Sparser process\n",
      "3                 0.7500  30.414371  host      Sparser process\n",
      "4                 0.9981  28.279614  host      Sparser process\n",
      "0                 0.1000  10.183562  host        Sparser parse\n",
      "1                 0.2500  23.686911  host        Sparser parse\n",
      "2                 0.5000  47.318627  host        Sparser parse\n",
      "3                 0.7500  71.840524  host        Sparser parse\n",
      "4                 0.9981  94.314924  host        Sparser parse\n"
     ]
    }
   ],
   "source": [
    "print(plot_df)"
   ]
  },
  {
   "cell_type": "code",
   "execution_count": 87,
   "metadata": {},
   "outputs": [
    {
     "data": {
      "text/html": [
       "\n",
       "<div id=\"altair-viz-91ff113324ce42afa4c0bca308336b5e\"></div>\n",
       "<script type=\"text/javascript\">\n",
       "  (function(spec, embedOpt){\n",
       "    let outputDiv = document.currentScript.previousElementSibling;\n",
       "    if (outputDiv.id !== \"altair-viz-91ff113324ce42afa4c0bca308336b5e\") {\n",
       "      outputDiv = document.getElementById(\"altair-viz-91ff113324ce42afa4c0bca308336b5e\");\n",
       "    }\n",
       "    const paths = {\n",
       "      \"vega\": \"https://cdn.jsdelivr.net/npm//vega@5?noext\",\n",
       "      \"vega-lib\": \"https://cdn.jsdelivr.net/npm//vega-lib?noext\",\n",
       "      \"vega-lite\": \"https://cdn.jsdelivr.net/npm//vega-lite@4.8.1?noext\",\n",
       "      \"vega-embed\": \"https://cdn.jsdelivr.net/npm//vega-embed@6?noext\",\n",
       "    };\n",
       "\n",
       "    function loadScript(lib) {\n",
       "      return new Promise(function(resolve, reject) {\n",
       "        var s = document.createElement('script');\n",
       "        s.src = paths[lib];\n",
       "        s.async = true;\n",
       "        s.onload = () => resolve(paths[lib]);\n",
       "        s.onerror = () => reject(`Error loading script: ${paths[lib]}`);\n",
       "        document.getElementsByTagName(\"head\")[0].appendChild(s);\n",
       "      });\n",
       "    }\n",
       "\n",
       "    function showError(err) {\n",
       "      outputDiv.innerHTML = `<div class=\"error\" style=\"color:red;\">${err}</div>`;\n",
       "      throw err;\n",
       "    }\n",
       "\n",
       "    function displayChart(vegaEmbed) {\n",
       "      vegaEmbed(outputDiv, spec, embedOpt)\n",
       "        .catch(err => showError(`Javascript Error: ${err.message}<br>This usually means there's a typo in your chart specification. See the javascript console for the full traceback.`));\n",
       "    }\n",
       "\n",
       "    if(typeof define === \"function\" && define.amd) {\n",
       "      requirejs.config({paths});\n",
       "      require([\"vega-embed\"], displayChart, err => showError(`Error loading script: ${err.message}`));\n",
       "    } else if (typeof vegaEmbed === \"function\") {\n",
       "      displayChart(vegaEmbed);\n",
       "    } else {\n",
       "      loadScript(\"vega\")\n",
       "        .then(() => loadScript(\"vega-lite\"))\n",
       "        .then(() => loadScript(\"vega-embed\"))\n",
       "        .catch(showError)\n",
       "        .then(() => displayChart(vegaEmbed));\n",
       "    }\n",
       "  })({\"config\": {\"view\": {\"continuousWidth\": 400, \"continuousHeight\": 300, \"strokeOpacity\": 0}}, \"data\": {\"name\": \"data-f8a15bbdde523212cb06b98f37fbc853\"}, \"mark\": \"bar\", \"encoding\": {\"color\": {\"type\": \"nominal\", \"field\": \"name\", \"scale\": {\"range\": [\"#96ceb4\", \"#ffcc5c\", \"#ff6f69\", \"#3376FF\", \"#FF8C33\"]}}, \"column\": {\"type\": \"nominal\", \"field\": \"candidates_percentage\", \"title\": \"candidates percentage\"}, \"order\": {\"type\": \"nominal\", \"field\": \"vals\", \"sort\": \"descending\"}, \"x\": {\"type\": \"nominal\", \"field\": \"c2\", \"title\": null}, \"y\": {\"type\": \"quantitative\", \"aggregate\": \"sum\", \"axis\": {\"grid\": false, \"title\": \"Excution Time\"}, \"field\": \"vals\"}}, \"$schema\": \"https://vega.github.io/schema/vega-lite/v4.8.1.json\", \"datasets\": {\"data-f8a15bbdde523212cb06b98f37fbc853\": [{\"candidates_percentage\": 0.1, \"vals\": 10.1600848, \"c2\": \"dpu\", \"name\": \"dpu host parse\"}, {\"candidates_percentage\": 0.25, \"vals\": 24.1012901, \"c2\": \"dpu\", \"name\": \"dpu host parse\"}, {\"candidates_percentage\": 0.5, \"vals\": 48.8849669, \"c2\": \"dpu\", \"name\": \"dpu host parse\"}, {\"candidates_percentage\": 0.75, \"vals\": 72.905426, \"c2\": \"dpu\", \"name\": \"dpu host parse\"}, {\"candidates_percentage\": 0.9981, \"vals\": 97.3864759, \"c2\": \"dpu\", \"name\": \"dpu host parse\"}, {\"candidates_percentage\": 0.1, \"vals\": 3.83624, \"c2\": \"dpu\", \"name\": \"dpu launch\"}, {\"candidates_percentage\": 0.25, \"vals\": 3.9332599999999998, \"c2\": \"dpu\", \"name\": \"dpu launch\"}, {\"candidates_percentage\": 0.5, \"vals\": 3.82556, \"c2\": \"dpu\", \"name\": \"dpu launch\"}, {\"candidates_percentage\": 0.75, \"vals\": 3.8252900000000003, \"c2\": \"dpu\", \"name\": \"dpu launch\"}, {\"candidates_percentage\": 0.9981, \"vals\": 3.7317, \"c2\": \"dpu\", \"name\": \"dpu launch\"}, {\"candidates_percentage\": 0.1, \"vals\": 2.0392609999999998, \"c2\": \"dpu\", \"name\": \"dpu memory transfer\"}, {\"candidates_percentage\": 0.25, \"vals\": 2.0960889999999996, \"c2\": \"dpu\", \"name\": \"dpu memory transfer\"}, {\"candidates_percentage\": 0.5, \"vals\": 2.0361309000000003, \"c2\": \"dpu\", \"name\": \"dpu memory transfer\"}, {\"candidates_percentage\": 0.75, \"vals\": 2.0261661, \"c2\": \"dpu\", \"name\": \"dpu memory transfer\"}, {\"candidates_percentage\": 0.9981, \"vals\": 2.0917791, \"c2\": \"dpu\", \"name\": \"dpu memory transfer\"}, {\"candidates_percentage\": 0.1, \"vals\": 30.858112, \"c2\": \"host\", \"name\": \"Sparser process\"}, {\"candidates_percentage\": 0.25, \"vals\": 28.628410000000006, \"c2\": \"host\", \"name\": \"Sparser process\"}, {\"candidates_percentage\": 0.5, \"vals\": 27.733339000000008, \"c2\": \"host\", \"name\": \"Sparser process\"}, {\"candidates_percentage\": 0.75, \"vals\": 30.41437099999999, \"c2\": \"host\", \"name\": \"Sparser process\"}, {\"candidates_percentage\": 0.9981, \"vals\": 28.27961399999998, \"c2\": \"host\", \"name\": \"Sparser process\"}, {\"candidates_percentage\": 0.1, \"vals\": 10.183562, \"c2\": \"host\", \"name\": \"Sparser parse\"}, {\"candidates_percentage\": 0.25, \"vals\": 23.686911, \"c2\": \"host\", \"name\": \"Sparser parse\"}, {\"candidates_percentage\": 0.5, \"vals\": 47.318627, \"c2\": \"host\", \"name\": \"Sparser parse\"}, {\"candidates_percentage\": 0.75, \"vals\": 71.840524, \"c2\": \"host\", \"name\": \"Sparser parse\"}, {\"candidates_percentage\": 0.9981, \"vals\": 94.314924, \"c2\": \"host\", \"name\": \"Sparser parse\"}]}}, {\"mode\": \"vega-lite\"});\n",
       "</script>"
      ],
      "text/plain": [
       "alt.Chart(...)"
      ]
     },
     "execution_count": 87,
     "metadata": {},
     "output_type": "execute_result"
    }
   ],
   "source": [
    "## obtained from stackoverflow with modifications\n",
    "# Plot data with Altair\n",
    "alt.Chart(plot_df).mark_bar().encode(\n",
    "\n",
    "    # tell Altair which field to group columns on\n",
    "    x=alt.X('c2:N', title=None),\n",
    "\n",
    "    # tell Altair which field to use as Y values and how to calculate\n",
    "    y=alt.Y('sum(vals):Q',\n",
    "        axis=alt.Axis(\n",
    "            grid=False,\n",
    "            title=\"Excution Time\")),\n",
    "    # important to sort within each stacked bar chart\n",
    "     order=alt.Order('vals:N', sort='descending'),\n",
    "    \n",
    "    # tell Altair which field to use to use as the set of columns to be  represented in each group\n",
    "    column=alt.Column('candidates_percentage:N', title='candidates percentage'),\n",
    "\n",
    "    # tell Altair which field to use for color segmentation \n",
    "    color=alt.Color('name:N',\n",
    "            scale=alt.Scale(\n",
    "                # make it look pretty with an enjoyable color pallet\n",
    "                range=['#96ceb4', '#ffcc5c','#ff6f69', '#3376FF', '#FF8C33'],\n",
    "            ),\n",
    "        ))\\\n",
    "    .configure_view(\n",
    "        # remove grid lines around column clusters\n",
    "        strokeOpacity=0    \n",
    "    )"
   ]
  },
  {
   "cell_type": "code",
   "execution_count": null,
   "metadata": {},
   "outputs": [],
   "source": []
  },
  {
   "cell_type": "code",
   "execution_count": null,
   "metadata": {},
   "outputs": [],
   "source": []
  }
 ],
 "metadata": {
  "kernelspec": {
   "display_name": "Python 3",
   "language": "python",
   "name": "python3"
  },
  "language_info": {
   "codemirror_mode": {
    "name": "ipython",
    "version": 3
   },
   "file_extension": ".py",
   "mimetype": "text/x-python",
   "name": "python",
   "nbconvert_exporter": "python",
   "pygments_lexer": "ipython3",
   "version": "3.6.9"
  }
 },
 "nbformat": 4,
 "nbformat_minor": 2
}
